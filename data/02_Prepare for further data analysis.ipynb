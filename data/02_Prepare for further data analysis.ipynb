{
 "cells": [
  {
   "cell_type": "code",
   "execution_count": 3,
   "id": "0d070ac3",
   "metadata": {},
   "outputs": [],
   "source": [
    "import pandas as pd"
   ]
  },
  {
   "cell_type": "code",
   "execution_count": 4,
   "id": "9f9af6d5",
   "metadata": {},
   "outputs": [
    {
     "data": {
      "text/html": [
       "<div>\n",
       "<style scoped>\n",
       "    .dataframe tbody tr th:only-of-type {\n",
       "        vertical-align: middle;\n",
       "    }\n",
       "\n",
       "    .dataframe tbody tr th {\n",
       "        vertical-align: top;\n",
       "    }\n",
       "\n",
       "    .dataframe thead th {\n",
       "        text-align: right;\n",
       "    }\n",
       "</style>\n",
       "<table border=\"1\" class=\"dataframe\">\n",
       "  <thead>\n",
       "    <tr style=\"text-align: right;\">\n",
       "      <th></th>\n",
       "      <th>watch_date</th>\n",
       "      <th>url</th>\n",
       "      <th>rating</th>\n",
       "      <th>中文名</th>\n",
       "      <th>original_name</th>\n",
       "      <th>en_name</th>\n",
       "      <th>release_date</th>\n",
       "      <th>country</th>\n",
       "      <th>country_new</th>\n",
       "      <th>country_en</th>\n",
       "      <th>...</th>\n",
       "      <th>horror</th>\n",
       "      <th>mystery</th>\n",
       "      <th>suspense</th>\n",
       "      <th>crime</th>\n",
       "      <th>fantasy</th>\n",
       "      <th>costume</th>\n",
       "      <th>action</th>\n",
       "      <th>adventure</th>\n",
       "      <th>romance/love</th>\n",
       "      <th>other</th>\n",
       "    </tr>\n",
       "  </thead>\n",
       "  <tbody>\n",
       "    <tr>\n",
       "      <th>0</th>\n",
       "      <td>2022-07-12</td>\n",
       "      <td>https://movie.douban.com/subject/35914301/</td>\n",
       "      <td>4</td>\n",
       "      <td>世界奇妙物语 2022夏季特别篇</td>\n",
       "      <td>世にも奇妙な物語'22夏の特別編</td>\n",
       "      <td>Tales of the Unusual 2022 Summer SP</td>\n",
       "      <td>2022-06-18</td>\n",
       "      <td>日本</td>\n",
       "      <td>日本</td>\n",
       "      <td>Japan</td>\n",
       "      <td>...</td>\n",
       "      <td>horror</td>\n",
       "      <td>NaN</td>\n",
       "      <td>NaN</td>\n",
       "      <td>NaN</td>\n",
       "      <td>NaN</td>\n",
       "      <td>NaN</td>\n",
       "      <td>NaN</td>\n",
       "      <td>NaN</td>\n",
       "      <td>NaN</td>\n",
       "      <td>NaN</td>\n",
       "    </tr>\n",
       "    <tr>\n",
       "      <th>1</th>\n",
       "      <td>2022-07-02</td>\n",
       "      <td>https://movie.douban.com/subject/35524387/</td>\n",
       "      <td>4</td>\n",
       "      <td>安娜</td>\n",
       "      <td>안나\\n</td>\n",
       "      <td>Anna</td>\n",
       "      <td>2022-06-24</td>\n",
       "      <td>韩国</td>\n",
       "      <td>韩国</td>\n",
       "      <td>South Korea</td>\n",
       "      <td>...</td>\n",
       "      <td>NaN</td>\n",
       "      <td>NaN</td>\n",
       "      <td>NaN</td>\n",
       "      <td>NaN</td>\n",
       "      <td>NaN</td>\n",
       "      <td>NaN</td>\n",
       "      <td>NaN</td>\n",
       "      <td>NaN</td>\n",
       "      <td>NaN</td>\n",
       "      <td>NaN</td>\n",
       "    </tr>\n",
       "    <tr>\n",
       "      <th>2</th>\n",
       "      <td>2022-07-01</td>\n",
       "      <td>https://movie.douban.com/subject/35372415/</td>\n",
       "      <td>4</td>\n",
       "      <td>套装</td>\n",
       "      <td>The Outfit\\n</td>\n",
       "      <td>The Outfit</td>\n",
       "      <td>2022-02-14</td>\n",
       "      <td>柏林电影节</td>\n",
       "      <td>美国</td>\n",
       "      <td>United States</td>\n",
       "      <td>...</td>\n",
       "      <td>NaN</td>\n",
       "      <td>NaN</td>\n",
       "      <td>NaN</td>\n",
       "      <td>crime</td>\n",
       "      <td>NaN</td>\n",
       "      <td>NaN</td>\n",
       "      <td>NaN</td>\n",
       "      <td>NaN</td>\n",
       "      <td>NaN</td>\n",
       "      <td>NaN</td>\n",
       "    </tr>\n",
       "    <tr>\n",
       "      <th>3</th>\n",
       "      <td>2022-06-28</td>\n",
       "      <td>https://movie.douban.com/subject/35273085/</td>\n",
       "      <td>3</td>\n",
       "      <td>纸钞屋(韩版)</td>\n",
       "      <td>종이의 집\\n</td>\n",
       "      <td>Banknote House (Korean Version)</td>\n",
       "      <td>2022-06-24</td>\n",
       "      <td>韩国</td>\n",
       "      <td>韩国</td>\n",
       "      <td>South Korea</td>\n",
       "      <td>...</td>\n",
       "      <td>NaN</td>\n",
       "      <td>NaN</td>\n",
       "      <td>suspense</td>\n",
       "      <td>crime</td>\n",
       "      <td>NaN</td>\n",
       "      <td>NaN</td>\n",
       "      <td>action</td>\n",
       "      <td>NaN</td>\n",
       "      <td>NaN</td>\n",
       "      <td>NaN</td>\n",
       "    </tr>\n",
       "    <tr>\n",
       "      <th>4</th>\n",
       "      <td>2022-06-23</td>\n",
       "      <td>https://movie.douban.com/subject/35441504/</td>\n",
       "      <td>3</td>\n",
       "      <td>我们的蓝调</td>\n",
       "      <td>우리들의 블루스\\n</td>\n",
       "      <td>Our Blues</td>\n",
       "      <td>2022-04-09</td>\n",
       "      <td>韩国</td>\n",
       "      <td>韩国</td>\n",
       "      <td>South Korea</td>\n",
       "      <td>...</td>\n",
       "      <td>NaN</td>\n",
       "      <td>NaN</td>\n",
       "      <td>NaN</td>\n",
       "      <td>NaN</td>\n",
       "      <td>NaN</td>\n",
       "      <td>NaN</td>\n",
       "      <td>NaN</td>\n",
       "      <td>NaN</td>\n",
       "      <td>NaN</td>\n",
       "      <td>NaN</td>\n",
       "    </tr>\n",
       "    <tr>\n",
       "      <th>...</th>\n",
       "      <td>...</td>\n",
       "      <td>...</td>\n",
       "      <td>...</td>\n",
       "      <td>...</td>\n",
       "      <td>...</td>\n",
       "      <td>...</td>\n",
       "      <td>...</td>\n",
       "      <td>...</td>\n",
       "      <td>...</td>\n",
       "      <td>...</td>\n",
       "      <td>...</td>\n",
       "      <td>...</td>\n",
       "      <td>...</td>\n",
       "      <td>...</td>\n",
       "      <td>...</td>\n",
       "      <td>...</td>\n",
       "      <td>...</td>\n",
       "      <td>...</td>\n",
       "      <td>...</td>\n",
       "      <td>...</td>\n",
       "      <td>...</td>\n",
       "    </tr>\n",
       "    <tr>\n",
       "      <th>74</th>\n",
       "      <td>2021-10-12</td>\n",
       "      <td>https://movie.douban.com/subject/25909236/</td>\n",
       "      <td>3</td>\n",
       "      <td>致命感应</td>\n",
       "      <td>Malignant\\n</td>\n",
       "      <td>Malignant</td>\n",
       "      <td>2021-09-01</td>\n",
       "      <td>法国</td>\n",
       "      <td>美国</td>\n",
       "      <td>United States</td>\n",
       "      <td>...</td>\n",
       "      <td>horror</td>\n",
       "      <td>mystery</td>\n",
       "      <td>NaN</td>\n",
       "      <td>NaN</td>\n",
       "      <td>NaN</td>\n",
       "      <td>NaN</td>\n",
       "      <td>NaN</td>\n",
       "      <td>NaN</td>\n",
       "      <td>NaN</td>\n",
       "      <td>NaN</td>\n",
       "    </tr>\n",
       "    <tr>\n",
       "      <th>75</th>\n",
       "      <td>2021-09-21</td>\n",
       "      <td>https://movie.douban.com/subject/34812928/</td>\n",
       "      <td>4</td>\n",
       "      <td>鱿鱼游戏 第一季</td>\n",
       "      <td>오징어 게임\\n</td>\n",
       "      <td>Squid Game Season 1</td>\n",
       "      <td>2021-09-17</td>\n",
       "      <td>韩国</td>\n",
       "      <td>韩国</td>\n",
       "      <td>South Korea</td>\n",
       "      <td>...</td>\n",
       "      <td>NaN</td>\n",
       "      <td>NaN</td>\n",
       "      <td>suspense</td>\n",
       "      <td>NaN</td>\n",
       "      <td>NaN</td>\n",
       "      <td>NaN</td>\n",
       "      <td>NaN</td>\n",
       "      <td>NaN</td>\n",
       "      <td>NaN</td>\n",
       "      <td>NaN</td>\n",
       "    </tr>\n",
       "    <tr>\n",
       "      <th>76</th>\n",
       "      <td>2021-09-17</td>\n",
       "      <td>https://movie.douban.com/subject/34981939/</td>\n",
       "      <td>4</td>\n",
       "      <td>偷窥者</td>\n",
       "      <td>The Voyeurs\\n</td>\n",
       "      <td>The Voyeurs</td>\n",
       "      <td>2021-09-10</td>\n",
       "      <td>美国网络</td>\n",
       "      <td>美国</td>\n",
       "      <td>United States</td>\n",
       "      <td>...</td>\n",
       "      <td>NaN</td>\n",
       "      <td>NaN</td>\n",
       "      <td>NaN</td>\n",
       "      <td>NaN</td>\n",
       "      <td>NaN</td>\n",
       "      <td>NaN</td>\n",
       "      <td>NaN</td>\n",
       "      <td>NaN</td>\n",
       "      <td>NaN</td>\n",
       "      <td>NaN</td>\n",
       "    </tr>\n",
       "    <tr>\n",
       "      <th>77</th>\n",
       "      <td>2021-09-06</td>\n",
       "      <td>https://movie.douban.com/subject/33423672/</td>\n",
       "      <td>4</td>\n",
       "      <td>厄运假期</td>\n",
       "      <td>Beckett\\n</td>\n",
       "      <td>Beckett</td>\n",
       "      <td>2021-08-13</td>\n",
       "      <td>美国网络</td>\n",
       "      <td>意大利 / 巴西 / 希腊 / 美国</td>\n",
       "      <td>Italy</td>\n",
       "      <td>...</td>\n",
       "      <td>NaN</td>\n",
       "      <td>NaN</td>\n",
       "      <td>NaN</td>\n",
       "      <td>crime</td>\n",
       "      <td>NaN</td>\n",
       "      <td>NaN</td>\n",
       "      <td>action</td>\n",
       "      <td>NaN</td>\n",
       "      <td>NaN</td>\n",
       "      <td>NaN</td>\n",
       "    </tr>\n",
       "    <tr>\n",
       "      <th>78</th>\n",
       "      <td>2021-09-06</td>\n",
       "      <td>https://movie.douban.com/subject/30337388/</td>\n",
       "      <td>3</td>\n",
       "      <td>失控玩家</td>\n",
       "      <td>Free Guy\\n</td>\n",
       "      <td>Free Guy</td>\n",
       "      <td>2021-08-10</td>\n",
       "      <td>洛迦诺电影节</td>\n",
       "      <td>美国 / 加拿大</td>\n",
       "      <td>United States</td>\n",
       "      <td>...</td>\n",
       "      <td>NaN</td>\n",
       "      <td>NaN</td>\n",
       "      <td>NaN</td>\n",
       "      <td>NaN</td>\n",
       "      <td>NaN</td>\n",
       "      <td>NaN</td>\n",
       "      <td>action</td>\n",
       "      <td>NaN</td>\n",
       "      <td>NaN</td>\n",
       "      <td>NaN</td>\n",
       "    </tr>\n",
       "  </tbody>\n",
       "</table>\n",
       "<p>79 rows × 29 columns</p>\n",
       "</div>"
      ],
      "text/plain": [
       "    watch_date                                          url  rating  \\\n",
       "0   2022-07-12  https://movie.douban.com/subject/35914301/        4   \n",
       "1   2022-07-02  https://movie.douban.com/subject/35524387/        4   \n",
       "2   2022-07-01  https://movie.douban.com/subject/35372415/        4   \n",
       "3   2022-06-28  https://movie.douban.com/subject/35273085/        3   \n",
       "4   2022-06-23  https://movie.douban.com/subject/35441504/        3   \n",
       "..         ...                                          ...     ...   \n",
       "74  2021-10-12  https://movie.douban.com/subject/25909236/        3   \n",
       "75  2021-09-21  https://movie.douban.com/subject/34812928/        4   \n",
       "76  2021-09-17   https://movie.douban.com/subject/34981939/       4   \n",
       "77  2021-09-06  https://movie.douban.com/subject/33423672/        4   \n",
       "78  2021-09-06  https://movie.douban.com/subject/30337388/        3   \n",
       "\n",
       "                 中文名                              original_name  \\\n",
       "0   世界奇妙物语 2022夏季特别篇                           世にも奇妙な物語'22夏の特別編   \n",
       "1                 安娜           안나\\n                               \n",
       "2                 套装   The Outfit\\n                               \n",
       "3            纸钞屋(韩版)        종이의 집\\n                               \n",
       "4              我们的蓝调     우리들의 블루스\\n                               \n",
       "..               ...                                        ...   \n",
       "74              致命感应    Malignant\\n                               \n",
       "75          鱿鱼游戏 第一季       오징어 게임\\n                               \n",
       "76               偷窥者  The Voyeurs\\n                               \n",
       "77              厄运假期      Beckett\\n                               \n",
       "78              失控玩家     Free Guy\\n                               \n",
       "\n",
       "                                en_name release_date country  \\\n",
       "0   Tales of the Unusual 2022 Summer SP   2022-06-18      日本   \n",
       "1                                  Anna   2022-06-24      韩国   \n",
       "2                            The Outfit   2022-02-14   柏林电影节   \n",
       "3       Banknote House (Korean Version)   2022-06-24      韩国   \n",
       "4                             Our Blues   2022-04-09      韩国   \n",
       "..                                  ...          ...     ...   \n",
       "74                            Malignant   2021-09-01      法国   \n",
       "75                  Squid Game Season 1   2021-09-17      韩国   \n",
       "76                 The Voyeurs            2021-09-10    美国网络   \n",
       "77                        Beckett         2021-08-13    美国网络   \n",
       "78                     Free Guy           2021-08-10  洛迦诺电影节   \n",
       "\n",
       "           country_new     country_en  ...  horror  mystery  suspense  crime  \\\n",
       "0                   日本          Japan  ...  horror      NaN       NaN    NaN   \n",
       "1                   韩国    South Korea  ...     NaN      NaN       NaN    NaN   \n",
       "2                   美国  United States  ...     NaN      NaN       NaN  crime   \n",
       "3                   韩国    South Korea  ...     NaN      NaN  suspense  crime   \n",
       "4                   韩国    South Korea  ...     NaN      NaN       NaN    NaN   \n",
       "..                 ...            ...  ...     ...      ...       ...    ...   \n",
       "74                  美国  United States  ...  horror  mystery       NaN    NaN   \n",
       "75                  韩国    South Korea  ...     NaN      NaN  suspense    NaN   \n",
       "76                  美国  United States  ...     NaN      NaN       NaN    NaN   \n",
       "77  意大利 / 巴西 / 希腊 / 美国          Italy  ...     NaN      NaN       NaN  crime   \n",
       "78            美国 / 加拿大  United States  ...     NaN      NaN       NaN    NaN   \n",
       "\n",
       "   fantasy costume  action adventure romance/love other  \n",
       "0      NaN     NaN     NaN       NaN          NaN   NaN  \n",
       "1      NaN     NaN     NaN       NaN          NaN   NaN  \n",
       "2      NaN     NaN     NaN       NaN          NaN   NaN  \n",
       "3      NaN     NaN  action       NaN          NaN   NaN  \n",
       "4      NaN     NaN     NaN       NaN          NaN   NaN  \n",
       "..     ...     ...     ...       ...          ...   ...  \n",
       "74     NaN     NaN     NaN       NaN          NaN   NaN  \n",
       "75     NaN     NaN     NaN       NaN          NaN   NaN  \n",
       "76     NaN     NaN     NaN       NaN          NaN   NaN  \n",
       "77     NaN     NaN  action       NaN          NaN   NaN  \n",
       "78     NaN     NaN  action       NaN          NaN   NaN  \n",
       "\n",
       "[79 rows x 29 columns]"
      ]
     },
     "execution_count": 4,
     "metadata": {},
     "output_type": "execute_result"
    }
   ],
   "source": [
    "df = pd.read_excel(\"clean_douban_movies_edited.xls\")\n",
    "df"
   ]
  },
  {
   "cell_type": "markdown",
   "id": "6b9e00c4",
   "metadata": {},
   "source": [
    "# 1. How many movies & tv shows I've watched?"
   ]
  },
  {
   "cell_type": "code",
   "execution_count": 5,
   "id": "2d576974",
   "metadata": {},
   "outputs": [
    {
     "data": {
      "text/plain": [
       "Movie       45\n",
       "TV Shows    34\n",
       "Name: gerne, dtype: int64"
      ]
     },
     "execution_count": 5,
     "metadata": {},
     "output_type": "execute_result"
    }
   ],
   "source": [
    "df[\"gerne\"].value_counts()"
   ]
  },
  {
   "cell_type": "markdown",
   "id": "ccd59c6f",
   "metadata": {},
   "source": [
    "# 2. Look through movies/tv shows with tag of drama"
   ]
  },
  {
   "cell_type": "code",
   "execution_count": 7,
   "id": "ce9267a7",
   "metadata": {},
   "outputs": [],
   "source": [
    "df_drama = df[df[\"drama\"] == \"drama\"]"
   ]
  },
  {
   "cell_type": "code",
   "execution_count": 8,
   "id": "faf542a8",
   "metadata": {},
   "outputs": [
    {
     "data": {
      "text/html": [
       "<div>\n",
       "<style scoped>\n",
       "    .dataframe tbody tr th:only-of-type {\n",
       "        vertical-align: middle;\n",
       "    }\n",
       "\n",
       "    .dataframe tbody tr th {\n",
       "        vertical-align: top;\n",
       "    }\n",
       "\n",
       "    .dataframe thead th {\n",
       "        text-align: right;\n",
       "    }\n",
       "</style>\n",
       "<table border=\"1\" class=\"dataframe\">\n",
       "  <thead>\n",
       "    <tr style=\"text-align: right;\">\n",
       "      <th></th>\n",
       "      <th>watch_date</th>\n",
       "      <th>url</th>\n",
       "      <th>rating</th>\n",
       "      <th>中文名</th>\n",
       "      <th>original_name</th>\n",
       "      <th>en_name</th>\n",
       "      <th>release_date</th>\n",
       "      <th>country</th>\n",
       "      <th>country_new</th>\n",
       "      <th>country_en</th>\n",
       "      <th>...</th>\n",
       "      <th>horror</th>\n",
       "      <th>mystery</th>\n",
       "      <th>suspense</th>\n",
       "      <th>crime</th>\n",
       "      <th>fantasy</th>\n",
       "      <th>costume</th>\n",
       "      <th>action</th>\n",
       "      <th>adventure</th>\n",
       "      <th>romance/love</th>\n",
       "      <th>other</th>\n",
       "    </tr>\n",
       "  </thead>\n",
       "  <tbody>\n",
       "    <tr>\n",
       "      <th>2</th>\n",
       "      <td>2022-07-01</td>\n",
       "      <td>https://movie.douban.com/subject/35372415/</td>\n",
       "      <td>4</td>\n",
       "      <td>套装</td>\n",
       "      <td>The Outfit\\n</td>\n",
       "      <td>The Outfit</td>\n",
       "      <td>2022-02-14</td>\n",
       "      <td>柏林电影节</td>\n",
       "      <td>美国</td>\n",
       "      <td>United States</td>\n",
       "      <td>...</td>\n",
       "      <td>NaN</td>\n",
       "      <td>NaN</td>\n",
       "      <td>NaN</td>\n",
       "      <td>crime</td>\n",
       "      <td>NaN</td>\n",
       "      <td>NaN</td>\n",
       "      <td>NaN</td>\n",
       "      <td>NaN</td>\n",
       "      <td>NaN</td>\n",
       "      <td>NaN</td>\n",
       "    </tr>\n",
       "    <tr>\n",
       "      <th>4</th>\n",
       "      <td>2022-06-28</td>\n",
       "      <td>https://movie.douban.com/subject/35273085/</td>\n",
       "      <td>3</td>\n",
       "      <td>纸钞屋(韩版)</td>\n",
       "      <td>종이의 집\\n</td>\n",
       "      <td>Banknote House (Korean Version)</td>\n",
       "      <td>2022-06-24</td>\n",
       "      <td>韩国</td>\n",
       "      <td>韩国</td>\n",
       "      <td>South Korea</td>\n",
       "      <td>...</td>\n",
       "      <td>NaN</td>\n",
       "      <td>NaN</td>\n",
       "      <td>suspense</td>\n",
       "      <td>crime</td>\n",
       "      <td>NaN</td>\n",
       "      <td>NaN</td>\n",
       "      <td>action</td>\n",
       "      <td>NaN</td>\n",
       "      <td>NaN</td>\n",
       "      <td>NaN</td>\n",
       "    </tr>\n",
       "    <tr>\n",
       "      <th>31</th>\n",
       "      <td>2022-04-29</td>\n",
       "      <td>https://movie.douban.com/subject/34928045/</td>\n",
       "      <td>3</td>\n",
       "      <td>恐怖循环</td>\n",
       "      <td>Choose or Die\\n</td>\n",
       "      <td>Choose or Die</td>\n",
       "      <td>2022-04-15</td>\n",
       "      <td>美国网络</td>\n",
       "      <td>英国</td>\n",
       "      <td>United Kingdom</td>\n",
       "      <td>...</td>\n",
       "      <td>horror</td>\n",
       "      <td>NaN</td>\n",
       "      <td>NaN</td>\n",
       "      <td>NaN</td>\n",
       "      <td>NaN</td>\n",
       "      <td>NaN</td>\n",
       "      <td>NaN</td>\n",
       "      <td>NaN</td>\n",
       "      <td>NaN</td>\n",
       "      <td>NaN</td>\n",
       "    </tr>\n",
       "    <tr>\n",
       "      <th>38</th>\n",
       "      <td>2022-02-27</td>\n",
       "      <td>https://movie.douban.com/subject/35732705/</td>\n",
       "      <td>4</td>\n",
       "      <td>暂无出口</td>\n",
       "      <td>No Exit\\n</td>\n",
       "      <td>No Exit</td>\n",
       "      <td>2022-02-25</td>\n",
       "      <td>美国</td>\n",
       "      <td>美国</td>\n",
       "      <td>United States</td>\n",
       "      <td>...</td>\n",
       "      <td>NaN</td>\n",
       "      <td>NaN</td>\n",
       "      <td>NaN</td>\n",
       "      <td>NaN</td>\n",
       "      <td>NaN</td>\n",
       "      <td>NaN</td>\n",
       "      <td>NaN</td>\n",
       "      <td>NaN</td>\n",
       "      <td>NaN</td>\n",
       "      <td>NaN</td>\n",
       "    </tr>\n",
       "    <tr>\n",
       "      <th>39</th>\n",
       "      <td>2022-02-22</td>\n",
       "      <td>https://movie.douban.com/subject/3006772/</td>\n",
       "      <td>5</td>\n",
       "      <td>第九区</td>\n",
       "      <td>District 9\\n</td>\n",
       "      <td>District 9</td>\n",
       "      <td>2009-08-14</td>\n",
       "      <td>美国</td>\n",
       "      <td>美国</td>\n",
       "      <td>United States</td>\n",
       "      <td>...</td>\n",
       "      <td>NaN</td>\n",
       "      <td>NaN</td>\n",
       "      <td>NaN</td>\n",
       "      <td>NaN</td>\n",
       "      <td>NaN</td>\n",
       "      <td>NaN</td>\n",
       "      <td>action</td>\n",
       "      <td>NaN</td>\n",
       "      <td>NaN</td>\n",
       "      <td>NaN</td>\n",
       "    </tr>\n",
       "    <tr>\n",
       "      <th>51</th>\n",
       "      <td>2022-01-30</td>\n",
       "      <td>https://movie.douban.com/subject/35030325/</td>\n",
       "      <td>2</td>\n",
       "      <td>僵尸校园</td>\n",
       "      <td>지금 우리 학교는\\n</td>\n",
       "      <td>All of Us Are Dead</td>\n",
       "      <td>2022-01-28</td>\n",
       "      <td>韩国</td>\n",
       "      <td>韩国</td>\n",
       "      <td>South Korea</td>\n",
       "      <td>...</td>\n",
       "      <td>horror</td>\n",
       "      <td>NaN</td>\n",
       "      <td>NaN</td>\n",
       "      <td>NaN</td>\n",
       "      <td>NaN</td>\n",
       "      <td>NaN</td>\n",
       "      <td>action</td>\n",
       "      <td>NaN</td>\n",
       "      <td>NaN</td>\n",
       "      <td>NaN</td>\n",
       "    </tr>\n",
       "    <tr>\n",
       "      <th>69</th>\n",
       "      <td>2021-10-10</td>\n",
       "      <td>https://movie.douban.com/subject/30180126/</td>\n",
       "      <td>3</td>\n",
       "      <td>窗里的女人</td>\n",
       "      <td>The Woman in the Window\\n                     ...</td>\n",
       "      <td>The Woman in the Window</td>\n",
       "      <td>2021-05-14</td>\n",
       "      <td>美国网络</td>\n",
       "      <td>美国</td>\n",
       "      <td>United States</td>\n",
       "      <td>...</td>\n",
       "      <td>NaN</td>\n",
       "      <td>mystery</td>\n",
       "      <td>NaN</td>\n",
       "      <td>crime</td>\n",
       "      <td>NaN</td>\n",
       "      <td>NaN</td>\n",
       "      <td>NaN</td>\n",
       "      <td>NaN</td>\n",
       "      <td>NaN</td>\n",
       "      <td>NaN</td>\n",
       "    </tr>\n",
       "    <tr>\n",
       "      <th>70</th>\n",
       "      <td>2021-10-03</td>\n",
       "      <td>https://movie.douban.com/subject/30400539/</td>\n",
       "      <td>4</td>\n",
       "      <td>罪人</td>\n",
       "      <td>The Guilty\\n</td>\n",
       "      <td>The Guilty</td>\n",
       "      <td>2021-09-11</td>\n",
       "      <td>多伦多电影节</td>\n",
       "      <td>美国</td>\n",
       "      <td>United States</td>\n",
       "      <td>...</td>\n",
       "      <td>NaN</td>\n",
       "      <td>NaN</td>\n",
       "      <td>NaN</td>\n",
       "      <td>crime</td>\n",
       "      <td>NaN</td>\n",
       "      <td>NaN</td>\n",
       "      <td>NaN</td>\n",
       "      <td>NaN</td>\n",
       "      <td>NaN</td>\n",
       "      <td>NaN</td>\n",
       "    </tr>\n",
       "    <tr>\n",
       "      <th>71</th>\n",
       "      <td>2021-09-24</td>\n",
       "      <td>https://movie.douban.com/subject/34953711/</td>\n",
       "      <td>4</td>\n",
       "      <td>不眠 第一季</td>\n",
       "      <td>Vigil Season 1\\n</td>\n",
       "      <td>Vigil Season 1</td>\n",
       "      <td>2021-08-29</td>\n",
       "      <td>英国</td>\n",
       "      <td>英国</td>\n",
       "      <td>United Kingdom</td>\n",
       "      <td>...</td>\n",
       "      <td>NaN</td>\n",
       "      <td>NaN</td>\n",
       "      <td>NaN</td>\n",
       "      <td>crime</td>\n",
       "      <td>NaN</td>\n",
       "      <td>NaN</td>\n",
       "      <td>NaN</td>\n",
       "      <td>NaN</td>\n",
       "      <td>NaN</td>\n",
       "      <td>NaN</td>\n",
       "    </tr>\n",
       "    <tr>\n",
       "      <th>73</th>\n",
       "      <td>2021-09-21</td>\n",
       "      <td>https://movie.douban.com/subject/35017064/</td>\n",
       "      <td>3</td>\n",
       "      <td>老去</td>\n",
       "      <td>Old\\n</td>\n",
       "      <td>Old</td>\n",
       "      <td>2021-07-21</td>\n",
       "      <td>美国</td>\n",
       "      <td>美国</td>\n",
       "      <td>United States</td>\n",
       "      <td>...</td>\n",
       "      <td>horror</td>\n",
       "      <td>mystery</td>\n",
       "      <td>NaN</td>\n",
       "      <td>NaN</td>\n",
       "      <td>NaN</td>\n",
       "      <td>NaN</td>\n",
       "      <td>NaN</td>\n",
       "      <td>NaN</td>\n",
       "      <td>NaN</td>\n",
       "      <td>NaN</td>\n",
       "    </tr>\n",
       "    <tr>\n",
       "      <th>75</th>\n",
       "      <td>2021-09-16</td>\n",
       "      <td>https://movie.douban.com/subject/34805719/</td>\n",
       "      <td>4</td>\n",
       "      <td>致命点击</td>\n",
       "      <td>Clickbait\\n</td>\n",
       "      <td>Clickbait</td>\n",
       "      <td>2021-08-25</td>\n",
       "      <td>美国</td>\n",
       "      <td>美国</td>\n",
       "      <td>United States</td>\n",
       "      <td>...</td>\n",
       "      <td>NaN</td>\n",
       "      <td>mystery</td>\n",
       "      <td>NaN</td>\n",
       "      <td>crime</td>\n",
       "      <td>NaN</td>\n",
       "      <td>NaN</td>\n",
       "      <td>NaN</td>\n",
       "      <td>NaN</td>\n",
       "      <td>NaN</td>\n",
       "      <td>NaN</td>\n",
       "    </tr>\n",
       "  </tbody>\n",
       "</table>\n",
       "<p>11 rows × 29 columns</p>\n",
       "</div>"
      ],
      "text/plain": [
       "    watch_date                                           url  rating      中文名  \\\n",
       "2   2022-07-01   https://movie.douban.com/subject/35372415/        4       套装   \n",
       "4   2022-06-28   https://movie.douban.com/subject/35273085/        3  纸钞屋(韩版)   \n",
       "31  2022-04-29  https://movie.douban.com/subject/34928045/         3     恐怖循环   \n",
       "38  2022-02-27   https://movie.douban.com/subject/35732705/        4     暂无出口   \n",
       "39  2022-02-22    https://movie.douban.com/subject/3006772/        5      第九区   \n",
       "51  2022-01-30   https://movie.douban.com/subject/35030325/        2     僵尸校园   \n",
       "69  2021-10-10   https://movie.douban.com/subject/30180126/        3    窗里的女人   \n",
       "70  2021-10-03   https://movie.douban.com/subject/30400539/        4       罪人   \n",
       "71  2021-09-24   https://movie.douban.com/subject/34953711/        4   不眠 第一季   \n",
       "73  2021-09-21   https://movie.douban.com/subject/35017064/        3       老去   \n",
       "75  2021-09-16   https://movie.douban.com/subject/34805719/        4     致命点击   \n",
       "\n",
       "                                        original_name  \\\n",
       "2            The Outfit\\n                               \n",
       "4                 종이의 집\\n                               \n",
       "31        Choose or Die\\n                               \n",
       "38              No Exit\\n                               \n",
       "39           District 9\\n                               \n",
       "51            지금 우리 학교는\\n                               \n",
       "69  The Woman in the Window\\n                     ...   \n",
       "70           The Guilty\\n                               \n",
       "71       Vigil Season 1\\n                               \n",
       "73                  Old\\n                               \n",
       "75            Clickbait\\n                               \n",
       "\n",
       "                            en_name release_date country country_new  \\\n",
       "2                        The Outfit   2022-02-14   柏林电影节          美国   \n",
       "4   Banknote House (Korean Version)   2022-06-24      韩国          韩国   \n",
       "31                    Choose or Die   2022-04-15    美国网络          英国   \n",
       "38                         No Exit    2022-02-25      美国          美国   \n",
       "39                    District 9      2009-08-14      美国          美国   \n",
       "51               All of Us Are Dead   2022-01-28      韩国          韩国   \n",
       "69          The Woman in the Window   2021-05-14    美国网络          美国   \n",
       "70                       The Guilty   2021-09-11  多伦多电影节          美国   \n",
       "71                   Vigil Season 1   2021-08-29      英国          英国   \n",
       "73                              Old   2021-07-21      美国          美国   \n",
       "75       Clickbait                    2021-08-25      美国          美国   \n",
       "\n",
       "        country_en  ...  horror  mystery  suspense  crime fantasy costume  \\\n",
       "2    United States  ...     NaN      NaN       NaN  crime     NaN     NaN   \n",
       "4      South Korea  ...     NaN      NaN  suspense  crime     NaN     NaN   \n",
       "31  United Kingdom  ...  horror      NaN       NaN    NaN     NaN     NaN   \n",
       "38   United States  ...     NaN      NaN       NaN    NaN     NaN     NaN   \n",
       "39   United States  ...     NaN      NaN       NaN    NaN     NaN     NaN   \n",
       "51     South Korea  ...  horror      NaN       NaN    NaN     NaN     NaN   \n",
       "69   United States  ...     NaN  mystery       NaN  crime     NaN     NaN   \n",
       "70   United States  ...     NaN      NaN       NaN  crime     NaN     NaN   \n",
       "71  United Kingdom  ...     NaN      NaN       NaN  crime     NaN     NaN   \n",
       "73   United States  ...  horror  mystery       NaN    NaN     NaN     NaN   \n",
       "75   United States  ...     NaN  mystery       NaN  crime     NaN     NaN   \n",
       "\n",
       "    action adventure romance/love other  \n",
       "2      NaN       NaN          NaN   NaN  \n",
       "4   action       NaN          NaN   NaN  \n",
       "31     NaN       NaN          NaN   NaN  \n",
       "38     NaN       NaN          NaN   NaN  \n",
       "39  action       NaN          NaN   NaN  \n",
       "51  action       NaN          NaN   NaN  \n",
       "69     NaN       NaN          NaN   NaN  \n",
       "70     NaN       NaN          NaN   NaN  \n",
       "71     NaN       NaN          NaN   NaN  \n",
       "73     NaN       NaN          NaN   NaN  \n",
       "75     NaN       NaN          NaN   NaN  \n",
       "\n",
       "[11 rows x 29 columns]"
      ]
     },
     "execution_count": 8,
     "metadata": {},
     "output_type": "execute_result"
    }
   ],
   "source": [
    "df_drama[df_drama[\"thriller\"] == \"thriller\"]"
   ]
  },
  {
   "cell_type": "markdown",
   "id": "49a3af4a",
   "metadata": {},
   "source": [
    "# 3. The numbers & percentage of each movie category\n",
    "\n",
    "Including 14 tags in total"
   ]
  },
  {
   "cell_type": "code",
   "execution_count": 33,
   "id": "1996f136",
   "metadata": {},
   "outputs": [
    {
     "data": {
      "text/plain": [
       "NaN          89.873418\n",
       "adventure    10.126582\n",
       "Name: adventure, dtype: float64"
      ]
     },
     "execution_count": 33,
     "metadata": {},
     "output_type": "execute_result"
    }
   ],
   "source": [
    "df[\"adventure\"].value_counts(dropna=False, normalize=True) * 100"
   ]
  },
  {
   "cell_type": "code",
   "execution_count": 34,
   "id": "1d2b7ca7",
   "metadata": {},
   "outputs": [
    {
     "data": {
      "text/plain": [
       "adventure    8\n",
       "Name: adventure, dtype: int64"
      ]
     },
     "execution_count": 34,
     "metadata": {},
     "output_type": "execute_result"
    }
   ],
   "source": [
    "df[\"adventure\"].value_counts()"
   ]
  },
  {
   "cell_type": "code",
   "execution_count": 9,
   "id": "dc6018d7",
   "metadata": {},
   "outputs": [
    {
     "data": {
      "text/plain": [
       "drama    54.43038\n",
       "NaN      45.56962\n",
       "Name: drama, dtype: float64"
      ]
     },
     "execution_count": 9,
     "metadata": {},
     "output_type": "execute_result"
    }
   ],
   "source": [
    "df[\"drama\"].value_counts(dropna=False, normalize=True) * 100"
   ]
  },
  {
   "cell_type": "code",
   "execution_count": 13,
   "id": "939b621c",
   "metadata": {},
   "outputs": [
    {
     "data": {
      "text/plain": [
       "drama    43\n",
       "Name: drama, dtype: int64"
      ]
     },
     "execution_count": 13,
     "metadata": {},
     "output_type": "execute_result"
    }
   ],
   "source": [
    "df[\"drama\"].value_counts()"
   ]
  },
  {
   "cell_type": "code",
   "execution_count": 147,
   "id": "05c01038",
   "metadata": {},
   "outputs": [
    {
     "data": {
      "text/plain": [
       "NaN         67.088608\n",
       "thriller    32.911392\n",
       "Name: thriller, dtype: float64"
      ]
     },
     "execution_count": 147,
     "metadata": {},
     "output_type": "execute_result"
    }
   ],
   "source": [
    "df[\"thriller\"].value_counts(dropna=False, normalize=True) * 100"
   ]
  },
  {
   "cell_type": "code",
   "execution_count": 14,
   "id": "7931fb9b",
   "metadata": {},
   "outputs": [
    {
     "data": {
      "text/plain": [
       "thriller    26\n",
       "Name: thriller, dtype: int64"
      ]
     },
     "execution_count": 14,
     "metadata": {},
     "output_type": "execute_result"
    }
   ],
   "source": [
    "df[\"thriller\"].value_counts()"
   ]
  },
  {
   "cell_type": "code",
   "execution_count": 148,
   "id": "980411c2",
   "metadata": {},
   "outputs": [
    {
     "data": {
      "text/plain": [
       "NaN       73.417722\n",
       "comedy    26.582278\n",
       "Name: comedy, dtype: float64"
      ]
     },
     "execution_count": 148,
     "metadata": {},
     "output_type": "execute_result"
    }
   ],
   "source": [
    "df[\"comedy\"].value_counts(dropna=False, normalize=True) * 100"
   ]
  },
  {
   "cell_type": "code",
   "execution_count": 15,
   "id": "78a1d414",
   "metadata": {},
   "outputs": [
    {
     "data": {
      "text/plain": [
       "comedy    21\n",
       "Name: comedy, dtype: int64"
      ]
     },
     "execution_count": 15,
     "metadata": {},
     "output_type": "execute_result"
    }
   ],
   "source": [
    "df[\"comedy\"].value_counts()"
   ]
  },
  {
   "cell_type": "code",
   "execution_count": 149,
   "id": "100f1ac5",
   "metadata": {},
   "outputs": [
    {
     "data": {
      "text/plain": [
       "NaN       77.21519\n",
       "sci-fi    22.78481\n",
       "Name: sci-fi, dtype: float64"
      ]
     },
     "execution_count": 149,
     "metadata": {},
     "output_type": "execute_result"
    }
   ],
   "source": [
    "df[\"sci-fi\"].value_counts(dropna=False, normalize=True) * 100"
   ]
  },
  {
   "cell_type": "code",
   "execution_count": 16,
   "id": "d64f09c1",
   "metadata": {},
   "outputs": [
    {
     "data": {
      "text/plain": [
       "sci-fi    18\n",
       "Name: sci-fi, dtype: int64"
      ]
     },
     "execution_count": 16,
     "metadata": {},
     "output_type": "execute_result"
    }
   ],
   "source": [
    "df[\"sci-fi\"].value_counts()"
   ]
  },
  {
   "cell_type": "code",
   "execution_count": 150,
   "id": "bbca54c8",
   "metadata": {},
   "outputs": [
    {
     "data": {
      "text/plain": [
       "NaN      77.21519\n",
       "crime    22.78481\n",
       "Name: crime, dtype: float64"
      ]
     },
     "execution_count": 150,
     "metadata": {},
     "output_type": "execute_result"
    }
   ],
   "source": [
    "df[\"crime\"].value_counts(dropna=False, normalize=True) * 100"
   ]
  },
  {
   "cell_type": "code",
   "execution_count": 17,
   "id": "021af9b6",
   "metadata": {},
   "outputs": [
    {
     "data": {
      "text/plain": [
       "crime    18\n",
       "Name: crime, dtype: int64"
      ]
     },
     "execution_count": 17,
     "metadata": {},
     "output_type": "execute_result"
    }
   ],
   "source": [
    "df[\"crime\"].value_counts()"
   ]
  },
  {
   "cell_type": "code",
   "execution_count": 151,
   "id": "0ee93f03",
   "metadata": {},
   "outputs": [
    {
     "data": {
      "text/plain": [
       "NaN       79.746835\n",
       "action    20.253165\n",
       "Name: action, dtype: float64"
      ]
     },
     "execution_count": 151,
     "metadata": {},
     "output_type": "execute_result"
    }
   ],
   "source": [
    "df[\"action\"].value_counts(dropna=False, normalize=True) * 100"
   ]
  },
  {
   "cell_type": "code",
   "execution_count": 18,
   "id": "3a6329da",
   "metadata": {},
   "outputs": [
    {
     "data": {
      "text/plain": [
       "action    16\n",
       "Name: action, dtype: int64"
      ]
     },
     "execution_count": 18,
     "metadata": {},
     "output_type": "execute_result"
    }
   ],
   "source": [
    "df[\"action\"].value_counts()"
   ]
  },
  {
   "cell_type": "code",
   "execution_count": 141,
   "id": "56cc5fb2",
   "metadata": {},
   "outputs": [
    {
     "data": {
      "text/plain": [
       "NaN        82.278481\n",
       "romance    17.721519\n",
       "Name: romance/love, dtype: float64"
      ]
     },
     "execution_count": 141,
     "metadata": {},
     "output_type": "execute_result"
    }
   ],
   "source": [
    "df[\"romance/love\"].value_counts(dropna=False, normalize=True) * 100"
   ]
  },
  {
   "cell_type": "code",
   "execution_count": 19,
   "id": "d31046ef",
   "metadata": {},
   "outputs": [
    {
     "data": {
      "text/plain": [
       "romance    14\n",
       "Name: romance/love, dtype: int64"
      ]
     },
     "execution_count": 19,
     "metadata": {},
     "output_type": "execute_result"
    }
   ],
   "source": [
    "df[\"romance/love\"].value_counts()"
   ]
  },
  {
   "cell_type": "code",
   "execution_count": 136,
   "id": "6be3168a",
   "metadata": {},
   "outputs": [
    {
     "data": {
      "text/plain": [
       "NaN         87.341772\n",
       "suspense    12.658228\n",
       "Name: suspense, dtype: float64"
      ]
     },
     "execution_count": 136,
     "metadata": {},
     "output_type": "execute_result"
    }
   ],
   "source": [
    "df[\"suspense\"].value_counts(dropna=False, normalize=True) * 100"
   ]
  },
  {
   "cell_type": "code",
   "execution_count": 20,
   "id": "e0ec87b7",
   "metadata": {},
   "outputs": [
    {
     "data": {
      "text/plain": [
       "suspense    10\n",
       "Name: suspense, dtype: int64"
      ]
     },
     "execution_count": 20,
     "metadata": {},
     "output_type": "execute_result"
    }
   ],
   "source": [
    "df[\"suspense\"].value_counts()"
   ]
  },
  {
   "cell_type": "code",
   "execution_count": 137,
   "id": "e7ad96ef",
   "metadata": {},
   "outputs": [
    {
     "data": {
      "text/plain": [
       "NaN       88.607595\n",
       "horror    11.392405\n",
       "Name: horror, dtype: float64"
      ]
     },
     "execution_count": 137,
     "metadata": {},
     "output_type": "execute_result"
    }
   ],
   "source": [
    "df[\"horror\"].value_counts(dropna=False, normalize=True) * 100"
   ]
  },
  {
   "cell_type": "code",
   "execution_count": 21,
   "id": "523d0a82",
   "metadata": {},
   "outputs": [
    {
     "data": {
      "text/plain": [
       "horror    9\n",
       "Name: horror, dtype: int64"
      ]
     },
     "execution_count": 21,
     "metadata": {},
     "output_type": "execute_result"
    }
   ],
   "source": [
    "df[\"horror\"].value_counts()"
   ]
  },
  {
   "cell_type": "code",
   "execution_count": 138,
   "id": "1d270b59",
   "metadata": {},
   "outputs": [
    {
     "data": {
      "text/plain": [
       "NaN        88.607595\n",
       "fantasy    11.392405\n",
       "Name: fantasy, dtype: float64"
      ]
     },
     "execution_count": 138,
     "metadata": {},
     "output_type": "execute_result"
    }
   ],
   "source": [
    "df[\"fantasy\"].value_counts(dropna=False, normalize=True) * 100"
   ]
  },
  {
   "cell_type": "code",
   "execution_count": 22,
   "id": "6c655696",
   "metadata": {},
   "outputs": [
    {
     "data": {
      "text/plain": [
       "fantasy    9\n",
       "Name: fantasy, dtype: int64"
      ]
     },
     "execution_count": 22,
     "metadata": {},
     "output_type": "execute_result"
    }
   ],
   "source": [
    "df[\"fantasy\"].value_counts()"
   ]
  },
  {
   "cell_type": "code",
   "execution_count": 143,
   "id": "33f09dcb",
   "metadata": {},
   "outputs": [
    {
     "data": {
      "text/plain": [
       "NaN        93.670886\n",
       "mystery     6.329114\n",
       "Name: mystery, dtype: float64"
      ]
     },
     "execution_count": 143,
     "metadata": {},
     "output_type": "execute_result"
    }
   ],
   "source": [
    "df[\"mystery\"].value_counts(dropna=False, normalize=True) * 100"
   ]
  },
  {
   "cell_type": "code",
   "execution_count": 23,
   "id": "e7092a69",
   "metadata": {},
   "outputs": [
    {
     "data": {
      "text/plain": [
       "mystery    5\n",
       "Name: mystery, dtype: int64"
      ]
     },
     "execution_count": 23,
     "metadata": {},
     "output_type": "execute_result"
    }
   ],
   "source": [
    "df[\"mystery\"].value_counts()"
   ]
  },
  {
   "cell_type": "code",
   "execution_count": 144,
   "id": "be11784a",
   "metadata": {},
   "outputs": [
    {
     "data": {
      "text/plain": [
       "NaN        97.468354\n",
       "costume     2.531646\n",
       "Name: costume, dtype: float64"
      ]
     },
     "execution_count": 144,
     "metadata": {},
     "output_type": "execute_result"
    }
   ],
   "source": [
    "df[\"costume\"].value_counts(dropna=False, normalize=True) * 100"
   ]
  },
  {
   "cell_type": "code",
   "execution_count": 24,
   "id": "ceace499",
   "metadata": {},
   "outputs": [
    {
     "data": {
      "text/plain": [
       "costume    2\n",
       "Name: costume, dtype: int64"
      ]
     },
     "execution_count": 24,
     "metadata": {},
     "output_type": "execute_result"
    }
   ],
   "source": [
    "df[\"costume\"].value_counts()"
   ]
  },
  {
   "cell_type": "code",
   "execution_count": 145,
   "id": "f476613a",
   "metadata": {},
   "outputs": [
    {
     "data": {
      "text/plain": [
       "NaN          96.202532\n",
       "biography     1.265823\n",
       "history       1.265823\n",
       "disaster      1.265823\n",
       "Name: other, dtype: float64"
      ]
     },
     "execution_count": 145,
     "metadata": {},
     "output_type": "execute_result"
    }
   ],
   "source": [
    "df[\"other\"].value_counts(dropna=False, normalize=True) * 100"
   ]
  },
  {
   "cell_type": "code",
   "execution_count": 25,
   "id": "0011595c",
   "metadata": {},
   "outputs": [
    {
     "data": {
      "text/plain": [
       "disaster     1\n",
       "biography    1\n",
       "history      1\n",
       "Name: other, dtype: int64"
      ]
     },
     "execution_count": 25,
     "metadata": {},
     "output_type": "execute_result"
    }
   ],
   "source": [
    "df[\"other\"].value_counts()"
   ]
  },
  {
   "cell_type": "markdown",
   "id": "76c310d0",
   "metadata": {},
   "source": [
    "# 4. Export a seperate file for movie languages analysis"
   ]
  },
  {
   "cell_type": "code",
   "execution_count": 6,
   "id": "caebb2a6",
   "metadata": {},
   "outputs": [
    {
     "data": {
      "text/plain": [
       "English     39\n",
       "Korean      24\n",
       "Mandarin     8\n",
       "French       3\n",
       "Japanese     1\n",
       "Italian      1\n",
       "Turkish      1\n",
       "Hindi        1\n",
       "German       1\n",
       "Name: language, dtype: int64"
      ]
     },
     "execution_count": 6,
     "metadata": {},
     "output_type": "execute_result"
    }
   ],
   "source": [
    "df[\"language\"].value_counts() "
   ]
  },
  {
   "cell_type": "code",
   "execution_count": null,
   "id": "04c72d92",
   "metadata": {},
   "outputs": [],
   "source": [
    "df_lang = df[\"language\"].value_counts(normalize=True) * 100\n",
    "#df_lang.to_excel(\"language_percentage.xls\")"
   ]
  },
  {
   "cell_type": "markdown",
   "id": "40f51fd2",
   "metadata": {},
   "source": [
    "# 5. Find out during what time I was watch my favourite movies?\n",
    "\n",
    "* Including: thriller/horror/suspense/mystery/crime"
   ]
  },
  {
   "cell_type": "code",
   "execution_count": 7,
   "id": "3e2ab8b5",
   "metadata": {},
   "outputs": [],
   "source": [
    "df_thriller = df[df.thriller == \"thriller\"]\n",
    "#df_thriller.to_excel(\"thriller.xls\")"
   ]
  },
  {
   "cell_type": "code",
   "execution_count": 28,
   "id": "16bca4cc",
   "metadata": {},
   "outputs": [
    {
     "name": "stderr",
     "output_type": "stream",
     "text": [
      "/var/folders/jg/7jsjjz6d6g5cxdkqkqxtc68w0000gn/T/ipykernel_32063/4019434694.py:2: FutureWarning: As the xlwt package is no longer maintained, the xlwt engine will be removed in a future version of pandas. This is the only engine in pandas that supports writing in the xls format. Install openpyxl and write to an xlsx file instead. You can set the option io.excel.xls.writer to 'xlwt' to silence this warning. While this option is deprecated and will also raise a warning, it can be globally set and the warning suppressed.\n",
      "  df_horror.to_excel(\"horror.xls\")\n"
     ]
    }
   ],
   "source": [
    "df_horror = df[df.horror == \"horror\"]\n",
    "#df_horror.to_excel(\"horror.xls\")"
   ]
  },
  {
   "cell_type": "code",
   "execution_count": 29,
   "id": "9574c47e",
   "metadata": {},
   "outputs": [
    {
     "name": "stderr",
     "output_type": "stream",
     "text": [
      "/var/folders/jg/7jsjjz6d6g5cxdkqkqxtc68w0000gn/T/ipykernel_32063/3458809794.py:2: FutureWarning: As the xlwt package is no longer maintained, the xlwt engine will be removed in a future version of pandas. This is the only engine in pandas that supports writing in the xls format. Install openpyxl and write to an xlsx file instead. You can set the option io.excel.xls.writer to 'xlwt' to silence this warning. While this option is deprecated and will also raise a warning, it can be globally set and the warning suppressed.\n",
      "  df_suspense.to_excel(\"suspense.xls\")\n"
     ]
    }
   ],
   "source": [
    "df_suspense = df[df.suspense == \"suspense\"]\n",
    "#df_suspense.to_excel(\"suspense.xls\")"
   ]
  },
  {
   "cell_type": "code",
   "execution_count": 30,
   "id": "d71eb9af",
   "metadata": {},
   "outputs": [
    {
     "name": "stderr",
     "output_type": "stream",
     "text": [
      "/var/folders/jg/7jsjjz6d6g5cxdkqkqxtc68w0000gn/T/ipykernel_32063/3123708367.py:2: FutureWarning: As the xlwt package is no longer maintained, the xlwt engine will be removed in a future version of pandas. This is the only engine in pandas that supports writing in the xls format. Install openpyxl and write to an xlsx file instead. You can set the option io.excel.xls.writer to 'xlwt' to silence this warning. While this option is deprecated and will also raise a warning, it can be globally set and the warning suppressed.\n",
      "  df_mystery.to_excel(\"mystery.xls\")\n"
     ]
    }
   ],
   "source": [
    "df_mystery = df[df.mystery == \"mystery\"]\n",
    "#df_mystery.to_excel(\"mystery.xls\")"
   ]
  },
  {
   "cell_type": "code",
   "execution_count": 32,
   "id": "536988c6",
   "metadata": {},
   "outputs": [
    {
     "name": "stderr",
     "output_type": "stream",
     "text": [
      "/var/folders/jg/7jsjjz6d6g5cxdkqkqxtc68w0000gn/T/ipykernel_32063/437935296.py:2: FutureWarning: As the xlwt package is no longer maintained, the xlwt engine will be removed in a future version of pandas. This is the only engine in pandas that supports writing in the xls format. Install openpyxl and write to an xlsx file instead. You can set the option io.excel.xls.writer to 'xlwt' to silence this warning. While this option is deprecated and will also raise a warning, it can be globally set and the warning suppressed.\n",
      "  df_crime.to_excel(\"crime.xls\")\n"
     ]
    }
   ],
   "source": [
    "df_crime = df[df.crime == \"crime\"]\n",
    "#df_crime.to_excel(\"crime.xls\")"
   ]
  },
  {
   "cell_type": "code",
   "execution_count": null,
   "id": "012eaa2a",
   "metadata": {},
   "outputs": [],
   "source": []
  }
 ],
 "metadata": {
  "kernelspec": {
   "display_name": "Python 3 (ipykernel)",
   "language": "python",
   "name": "python3"
  },
  "language_info": {
   "codemirror_mode": {
    "name": "ipython",
    "version": 3
   },
   "file_extension": ".py",
   "mimetype": "text/x-python",
   "name": "python",
   "nbconvert_exporter": "python",
   "pygments_lexer": "ipython3",
   "version": "3.10.3"
  }
 },
 "nbformat": 4,
 "nbformat_minor": 5
}
